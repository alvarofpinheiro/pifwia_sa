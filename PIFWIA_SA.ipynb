{
  "nbformat": 4,
  "nbformat_minor": 0,
  "metadata": {
    "colab": {
      "name": "PIFWIA_SA.ipynb",
      "provenance": [],
      "collapsed_sections": [],
      "include_colab_link": true
    },
    "kernelspec": {
      "name": "python3",
      "display_name": "Python 3"
    }
  },
  "cells": [
    {
      "cell_type": "markdown",
      "metadata": {
        "id": "view-in-github",
        "colab_type": "text"
      },
      "source": [
        "<a href=\"https://colab.research.google.com/github/alvarofpinheiro/pifwia_sa/blob/main/PIFWIA_SA.ipynb\" target=\"_parent\"><img src=\"https://colab.research.google.com/assets/colab-badge.svg\" alt=\"Open In Colab\"/></a>"
      ]
    },
    {
      "cell_type": "markdown",
      "metadata": {
        "id": "ltonwoHfYxL2"
      },
      "source": [
        "No Simulated Annealing existe o conceito de temperatura que possibilita em alguns casos o algoritmo ir para um local com um fitness pior, isso é feito para incentivar exploração e evitar pontos de otimo local\n",
        "\n",
        "```\n",
        "solucao_inicial = valor_aleatorio_dentro_do_espaco_de_busca()\n",
        "\n",
        "Temperatura_maxima = parametro_1\n",
        "Temperatura_minima = parametro_2\n",
        "Temperatura_atual = Temperatura_maxima\n",
        "\n",
        "while Temperatura_atual > Temperatura_minima:\n",
        "  nova_solucao = realizar_mudanca_na_solucao(solucao_inicial)\n",
        "  if fitness(nova_solucao) < fitness(solucao_inicial):\n",
        "    solucao_incial = nova_solucao\n",
        "\n",
        "  elif exp((fitness(solucao_inicial) - fitness(nova_solucao))/Temperatura_atual) > random(0,1): \n",
        "  # caso seja um problema de maximização a ordem do fitness inverte\n",
        "    solucao_incial = nova_solucao\n",
        "  temperatura_atual = atualizar_temperatura()\n",
        "```"
      ]
    },
    {
      "cell_type": "markdown",
      "metadata": {
        "id": "XWiwljNXZHbu"
      },
      "source": [
        "Caixeiro Viajante\n",
        "\n",
        "Um comerciente deseja viajar por varias cidades comprando e vendendo produtos. Ele quer seguir uma rota que tenha a menor distancia possivel, mas sem passar pela mesma cidade 2 vezes.  E apos passar por todas as cidades, ele precisa voltar a cidade em que ele iniciou seu percurso.\n",
        "\n",
        "Ou seja: dado N pontos como podemos passar por todos 1 vez e voltar ao ponto zero?\n",
        "\n",
        "Usando uma busca exaustiva a complexidade desse problema seria N! Ou seja se voce tivesse 100 cidades (9.332622e+157 possiveis rotas) e rodasse o algoritmo completo o universo iria acabar e o codigo nao teria terminado de rodar.\n",
        "\n",
        "![djpoints.gif](data:image/gif;base64,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)\n",
        "\n",
        "![djtour.gif](data:image/gif;base64,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)"
      ]
    },
    {
      "cell_type": "code",
      "metadata": {
        "id": "gq3TLflwsht3"
      },
      "source": [
        "# Imports\n",
        "\n",
        "import random\n",
        "import math\n",
        "import matplotlib.pyplot as plt"
      ],
      "execution_count": 1,
      "outputs": []
    },
    {
      "cell_type": "code",
      "metadata": {
        "id": "UtdygTPbBO76"
      },
      "source": [
        "# Codigo para o problema do caixeiro viajante\n",
        "\n",
        "NUMERO_DE_CIDADES = 38\n",
        "\n",
        "POSICOES = [\n",
        "[ 11003.611100, 42102.500000],\n",
        "[ 11108.611100, 42373.888900],\n",
        "[ 11133.333300, 42885.833300],\n",
        "[ 11155.833300, 42712.500000],\n",
        "[ 11183.333300, 42933.333300],\n",
        "[ 11297.500000, 42853.333300],\n",
        "[ 11310.277800, 42929.444400],\n",
        "[ 11416.666700, 42983.333300],\n",
        "[ 11423.888900, 43000.277800],\n",
        "[ 11438.333300, 42057.222200],\n",
        "[ 11461.111100, 43252.777800],\n",
        "[ 11485.555600, 43187.222200],\n",
        "[ 11503.055600, 42855.277800],\n",
        "[ 11511.388900, 42106.388900],\n",
        "[ 11522.222200, 42841.944400],\n",
        "[ 11569.444400, 43136.666700],\n",
        "[ 11583.333300, 43150.000000],\n",
        "[ 11595.000000, 43148.055600],\n",
        "[ 11600.000000, 43150.000000],\n",
        "[ 11690.555600, 42686.666700],\n",
        "[ 11715.833300, 41836.111100],\n",
        "[ 11751.111100, 42814.444400],\n",
        "[ 11770.277800, 42651.944400],\n",
        "[ 11785.277800, 42884.444400],\n",
        "[ 11822.777800, 42673.611100],\n",
        "[ 11846.944400, 42660.555600],\n",
        "[ 11963.055600, 43290.555600],\n",
        "[ 11973.055600, 43026.111100],\n",
        "[ 12058.333300, 42195.555600],\n",
        "[ 12149.444400, 42477.500000],\n",
        "[ 12286.944400, 43355.555600],\n",
        "[ 12300.000000, 42433.333300],\n",
        "[ 12355.833300, 43156.388900],\n",
        "[ 12363.333300, 43189.166700],\n",
        "[ 12372.777800, 42711.388900],\n",
        "[ 12386.666700, 43334.722200],\n",
        "[ 12421.666700, 42895.555600],\n",
        "[ 12645.000000, 42973.333300]]\n",
        "# Fonte: http://www.math.uwaterloo.ca/tsp/world/countries.html\n",
        "# Melhor resultado possivel: 6656\n",
        "# Numero de cidades: 38\n",
        "# Numero de possiveis caminhos: 5.2302262e+44\n",
        "\n",
        "class cidade:\n",
        "  def __init__(self, x, y):\n",
        "    self.posicao_x = x\n",
        "    self.posicao_y = y\n",
        "  def distancia(self, cidade_externa):\n",
        "    return  math.sqrt((self.posicao_x - cidade_externa.posicao_x)**2 + \n",
        "                      (self.posicao_y - cidade_externa.posicao_y)**2)\n",
        "\n",
        "def cidades_inicial_usando_referencia():\n",
        "  lista = []\n",
        "  for i in range(0, NUMERO_DE_CIDADES):\n",
        "    lista.append(cidade(POSICOES[i][0], POSICOES[i][1]))\n",
        "  return lista\n",
        "\n",
        "def gerar_solucao_aleatoria():\n",
        "  lista_de_cidades = list(range(0, NUMERO_DE_CIDADES))\n",
        "  lista_aleatoria = []\n",
        "  for i in range(0, NUMERO_DE_CIDADES):\n",
        "    cidade = random.choice(lista_de_cidades)\n",
        "    lista_aleatoria.append(cidade)\n",
        "    lista_de_cidades.remove(cidade)\n",
        "  return lista_aleatoria\n",
        "\n",
        "def fitness(possivel_solucao):\n",
        "  fitness = 0\n",
        "  for i in range(0, NUMERO_DE_CIDADES): \n",
        "    if i < NUMERO_DE_CIDADES - 1:\n",
        "      fitness += cidades[possivel_solucao[i]].distancia(cidades[possivel_solucao[i+1]])\n",
        "    else:\n",
        "      fitness += cidades[possivel_solucao[i]].distancia(cidades[possivel_solucao[0]])\n",
        "  return fitness\n",
        "\n",
        "def mudar_solucao(solucao):\n",
        "  solucao_modificada = []\n",
        "  for i in range(0, NUMERO_DE_CIDADES):\n",
        "    solucao_modificada.append(solucao[i])\n",
        "  index_1 = random.randint(0, NUMERO_DE_CIDADES - 1)\n",
        "  index_2 = random.randint(0, NUMERO_DE_CIDADES - 1)\n",
        "  while(index_1 == index_2):\n",
        "    index_2 = random.randint(0, NUMERO_DE_CIDADES - 1)\n",
        "  cidade_1 = solucao[index_1]\n",
        "  cidade_2 = solucao[index_2]\n",
        "  solucao_modificada[index_2] = cidade_1\n",
        "  solucao_modificada[index_1] = cidade_2\n",
        "  return solucao_modificada"
      ],
      "execution_count": 2,
      "outputs": []
    },
    {
      "cell_type": "code",
      "metadata": {
        "id": "S_8ZzjCUfoW1"
      },
      "source": [
        "# --- Codigo para visualização ---\n",
        "# --- Codigo para demonstração visual utilizando matplotlib ---\n",
        "# Caixeiro Viajante\n",
        "\n",
        "def gerar_grafico(lista_cidades, solucao):\n",
        "  x = []\n",
        "  y = []\n",
        "  for i in range(0, NUMERO_DE_CIDADES):\n",
        "    x.append(lista_cidades[solucao[i]].posicao_x)\n",
        "    y.append(lista_cidades[solucao[i]].posicao_y)\n",
        "    plt.plot(lista_cidades[solucao[i]].posicao_x, \n",
        "             lista_cidades[solucao[i]].posicao_y, 'ro')\n",
        "\n",
        "  x.append(lista_cidades[solucao[0]].posicao_x)\n",
        "  y.append(lista_cidades[solucao[0]].posicao_y)\n",
        "  plt.plot(x, y)\n",
        "  plt.title('Solução aleatoria inicial')\n",
        "  plt.show()"
      ],
      "execution_count": 3,
      "outputs": []
    },
    {
      "cell_type": "code",
      "metadata": {
        "id": "RMZsFgUhs70o"
      },
      "source": [
        "# --- Algoritimo: Simulated Annealing ---\n",
        "# --- Problema: Caixeiro Viajante ---\n",
        "# para calcular e^x, pois a biblioteca math estava dando erro\n",
        "\n",
        "import numpy as np\n",
        "\n",
        "# Parametros\n",
        "TEMPERATURA_MAXIMA = 500.0\n",
        "TEMPERATURA_MINIMA = 0.01\n",
        "\n",
        "cidades = cidades_inicial_usando_referencia()\n",
        "\n",
        "def executar_simulated_annealing():\n",
        "\n",
        "  # É gerada uma solução inicial aleatoria\n",
        "  solucao_atual = gerar_solucao_aleatoria()\n",
        "\n",
        "  # É calculado o fitness da solução incial\n",
        "  fitness_atual = fitness(solucao_atual)\n",
        "\n",
        "  # É definido um criterio de parada\n",
        "  temperatura = TEMPERATURA_MAXIMA\n",
        "\n",
        "  # print('Fitness Inicial: ', \"%.3f\" % fitness_atual)\n",
        "\n",
        "  # --- Função para demonstração visual utilizando matplotlib ---\n",
        "  # gerar_grafico(cidades, solucao_atual)\n",
        "\n",
        "  # --- Inicio da execução do algoritimo ---\n",
        "\n",
        "  # Criterio de parada \n",
        "  while temperatura > TEMPERATURA_MINIMA:\n",
        "\n",
        "    # Uma nova solução é gerada\n",
        "    nova_solucao = mudar_solucao(solucao_atual)\n",
        "\n",
        "    # A nova solução é comparada com a anterior\n",
        "    if fitness(nova_solucao) < fitness(solucao_atual):\n",
        "\n",
        "      # Caso ela seja melhor a anterior é substituida pela nova\n",
        "      solucao_atual.clear()\n",
        "      for j in range(0, NUMERO_DE_CIDADES):\n",
        "        solucao_atual.append(nova_solucao[j])\n",
        "      # e o melhor fitness é atualizado\n",
        "      fitness_atual = fitness(solucao_atual)\n",
        "    \n",
        "    # Mesmo que o novo local seja pior que o anterior existe uma chance que o \n",
        "    # algoritmo va a ele, isso é feito para aumentar a exploração e evitar \n",
        "    # otimos locais\n",
        "    elif np.exp(((fitness(solucao_atual) - fitness(nova_solucao))/temperatura)) > random.random():\n",
        "      solucao_atual.clear()\n",
        "      for j in range(0, NUMERO_DE_CIDADES):\n",
        "        solucao_atual.append(nova_solucao[j])\n",
        "      # o fitness é atualizado\n",
        "      fitness_atual = fitness(solucao_atual)\n",
        "  \n",
        "    temperatura -= TEMPERATURA_MINIMA\n",
        "\n",
        "  # --- Função para demonstração visual utilizando matplotlib ---\n",
        "  # gerar_grafico(cidades, solucao_atual)\n",
        "\n",
        "  return fitness_atual"
      ],
      "execution_count": 4,
      "outputs": []
    },
    {
      "cell_type": "code",
      "metadata": {
        "id": "FJX6ecNJA-7a",
        "colab": {
          "base_uri": "https://localhost:8080/"
        },
        "outputId": "3939fab8-77e0-47cb-ca4d-95e8b119fdae"
      },
      "source": [
        "# Testes dos algoritimos:\n",
        "# --- Simulated Annealing ---\n",
        "\n",
        "NUMERO_DE_EXECUCOES = 8\n",
        "best = 100000000\n",
        "media = 0\n",
        "for i in range(0, NUMERO_DE_EXECUCOES):\n",
        "  aux = executar_simulated_annealing()\n",
        "  media += aux\n",
        "  if aux < best:\n",
        "    best = aux\n",
        "\n",
        "print('---------- Caixeiro viajante ------- Simulated Annealing ----------')\n",
        "print('Melhore resultado de todas as execuções: ', \"%.3f\" % best)\n",
        "print('Resultado medio: ', \"%.3f\" % (media/NUMERO_DE_EXECUCOES))\n",
        "print('-------------------------------------------------------------------\\n\\n')"
      ],
      "execution_count": 6,
      "outputs": [
        {
          "output_type": "stream",
          "name": "stdout",
          "text": [
            "---------- Caixeiro viajante ------- Simulated Annealing ----------\n",
            "Melhore resultado de todas as execuções:  7356.185\n",
            "Resultado medio:  7818.048\n",
            "-------------------------------------------------------------------\n",
            "\n",
            "\n"
          ]
        }
      ]
    }
  ]
}